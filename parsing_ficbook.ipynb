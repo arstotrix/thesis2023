{
  "cells": [
    {
      "cell_type": "markdown",
      "metadata": {
        "id": "view-in-github",
        "colab_type": "text"
      },
      "source": [
        "<a href=\"https://colab.research.google.com/github/arstotrix/thesis2023/blob/master/parsing_ficbook.ipynb\" target=\"_parent\"><img src=\"https://colab.research.google.com/assets/colab-badge.svg\" alt=\"Open In Colab\"/></a>"
      ]
    },
    {
      "cell_type": "code",
      "execution_count": 1,
      "metadata": {
        "id": "1PaIQRG1cAwW"
      },
      "outputs": [],
      "source": [
        "import requests\n",
        "from bs4 import BeautifulSoup\n",
        "import time\n",
        "from google.colab import output\n",
        "import json"
      ]
    },
    {
      "cell_type": "code",
      "execution_count": 69,
      "metadata": {
        "id": "tr-I5l-1PyKv",
        "colab": {
          "base_uri": "https://localhost:8080/"
        },
        "outputId": "5b3a4e93-0964-4298-ddd7-20d42a2cffad"
      },
      "outputs": [
        {
          "output_type": "execute_result",
          "data": {
            "text/plain": [
              "78"
            ]
          },
          "metadata": {},
          "execution_count": 69
        }
      ],
      "source": [
        "dcounter"
      ]
    },
    {
      "cell_type": "code",
      "source": [
        "npages = 29\n",
        "beg = \"2009-01-01\"\n",
        "endg = \"2011-12-31\""
      ],
      "metadata": {
        "id": "ehFRVcAJBYD9"
      },
      "execution_count": 72,
      "outputs": []
    },
    {
      "cell_type": "code",
      "execution_count": 73,
      "metadata": {
        "colab": {
          "base_uri": "https://localhost:8080/",
          "height": 546
        },
        "id": "kLPVmSfKlJHG",
        "outputId": "a701694d-54cf-4c7f-b0bc-41dee82bd37b"
      },
      "outputs": [
        {
          "output_type": "stream",
          "name": "stdout",
          "text": [
            "1 200\n",
            "2 200\n",
            "3 200\n",
            "4 200\n",
            "5 200\n",
            "6 200\n",
            "7 200\n",
            "8 200\n",
            "9 200\n",
            "10 200\n",
            "11 200\n",
            "12 200\n",
            "13 200\n",
            "14 200\n",
            "15 200\n",
            "16 200\n",
            "17 200\n",
            "18 200\n",
            "19 200\n",
            "20 200\n",
            "21 200\n",
            "22 200\n",
            "23 200\n",
            "24 200\n",
            "25 200\n",
            "26 200\n",
            "27 200\n",
            "28 200\n",
            "29 200\n"
          ]
        }
      ],
      "source": [
        "base = 1\n",
        "i = base\n",
        "while i < base+npages:\n",
        "      broken = 0\n",
        "      page = i\n",
        "      url = \"https://ficbook.net/find-fanfics-846555?fandom_filter=fandom&fandom_group_id=1&fandom_ids%5B0%5D=183&pages_range=1&pages_min=&pages_max=&transl=1&likes_min=&likes_max=&rewards_min=&date_create_min=2024-03-17&date_create_max=2024-03-17&dateFilterUpdate=1&date_update_min={}&date_update_max={}&title=&sort=1&rnd=343487720&find=%D0%9D%D0%B0%D0%B9%D1%82%D0%B8!&p={}#result\".format( beg, endg, page)\n",
        "      real_html = requests.get(url, headers = {\"User-Agent\":\"Mozilla/5.0\"})\n",
        "      print(page, real_html.status_code)\n",
        "      if real_html.status_code != 200:\n",
        "        broken = 1\n",
        "        break\n",
        "      fnum = \"{:03d}\".format(dcounter)\n",
        "      fname = \"ficbook_data_\"+str(fnum)+\".txt\"\n",
        "      with open (fname, 'a', encoding='utf-8') as f:\n",
        "          json.dump(real_html.text, f, indent = 4, ensure_ascii = False)\n",
        "      time.sleep(1)\n",
        "      i+=1\n",
        "dcounter+=1\n",
        "output.eval_js('new Audio(\"https://upload.wikimedia.org/wikipedia/commons/0/05/Beep-09.ogg\").play()')"
      ]
    },
    {
      "cell_type": "code",
      "source": [
        "output.eval_js('new Audio(\"https://upload.wikimedia.org/wikipedia/commons/0/05/Beep-09.ogg\").play()')"
      ],
      "metadata": {
        "id": "BdXbV9bJxhEK"
      },
      "execution_count": null,
      "outputs": []
    }
  ],
  "metadata": {
    "colab": {
      "provenance": [],
      "authorship_tag": "ABX9TyOOeir/1wQj/I4tgv/+BVm7",
      "include_colab_link": true
    },
    "kernelspec": {
      "display_name": "Python 3",
      "name": "python3"
    },
    "language_info": {
      "name": "python"
    }
  },
  "nbformat": 4,
  "nbformat_minor": 0
}